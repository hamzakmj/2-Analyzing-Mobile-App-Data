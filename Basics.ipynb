{
 "cells": [
  {
   "cell_type": "markdown",
   "metadata": {},
   "source": [
    "## Profitable App Profiles for the App Store and Google Play Markets"
   ]
  },
  {
   "cell_type": "markdown",
   "metadata": {},
   "source": [
    "our aim for this project is to find profiles that are profitable in the app store we are working as data analysts for a company and our job is to help our developer's team make a data-driven decision "
   ]
  },
  {
   "cell_type": "markdown",
   "metadata": {},
   "source": [
    "our app is free and our main source of revenue consists of in-app ads\n",
    "this means that the number of users of our apps determines our revenue for any given app our goal in this project is to analyze data and help developers which apps are more attractive to the user "
   ]
  },
  {
   "cell_type": "markdown",
   "metadata": {},
   "source": [
    "## Opening and Exploring the Data\n"
   ]
  },
  {
   "cell_type": "markdown",
   "metadata": {},
   "source": [
    "As of September 2018 there were approximately 2 million ios apps available on the App Store and 2,1 million Android apps on Google Play"
   ]
  },
  {
   "cell_type": "markdown",
   "metadata": {},
   "source": [
    "![img](https://s3.amazonaws.com/dq-content/350/py1m8_statista.png) Source: [Statista](https://www.statista.com/statistics/276623/number-of-apps-available-in-leading-app-stores/) "
   ]
  },
  {
   "cell_type": "markdown",
   "metadata": {},
   "source": [
    "Collecting data for over 4 million apps requires a significant amount of time and money so we'll try to analyze a sample of the data instead, To avoid spending resources on collecting new data ourselves we should first try to see if we can find any relevant existing data at no cost"
   ]
  },
  {
   "cell_type": "markdown",
   "metadata": {},
   "source": [
    "\n",
    "- [dataset](https://www.kaggle.com/lava18/google-play-store-apps) containing data about approximately 10,000 Android apps from Google Play; the data was collected in August 2018. \n",
    "\n",
    "- [dataset](https://www.kaggle.com/ramamet4/app-store-apple-data-set-10k-apps) containing data about approximately 7,000 iOS apps from the App Store; the data was collected in July 2017."
   ]
  },
  {
   "cell_type": "markdown",
   "metadata": {},
   "source": [
    "let's start opening our datasets"
   ]
  },
  {
   "cell_type": "code",
   "execution_count": 1,
   "metadata": {},
   "outputs": [],
   "source": [
    "\n",
    "open_file=open(\"googleplaystore.csv\")\n",
    "from csv import reader\n",
    "read_file= reader(open_file)\n",
    "android=list(read_file)\n",
    "android_header=android[0]\n",
    "android=android[1:]\n",
    "\n",
    "open_file=open(\"AppleStore.csv\")\n",
    "from csv import reader\n",
    "read_file= reader(open_file)\n",
    "ios=list(read_file)\n",
    "ios_header=ios[0]\n",
    "ios=ios[1:]"
   ]
  },
  {
   "cell_type": "markdown",
   "metadata": {},
   "source": [
    "to make the data more easier to explore i we created a function named <mark>explore_data()</mark> that you can repeatedly use to print rows in a readable way"
   ]
  },
  {
   "cell_type": "code",
   "execution_count": 2,
   "metadata": {},
   "outputs": [],
   "source": [
    "def explore_data(dataset, start, end, rows_and_columns=False):\n",
    "    dataset_slice=dataset[start:end]\n",
    "    for row in dataset_slice:\n",
    "        print(row)\n",
    "        print(\"\\n\")\n",
    "    if rows_and_columns:\n",
    "        print(\"Number of rows:\",len(dataset))\n",
    "        print('Number of columns',len(dataset[0]))\n",
    "    "
   ]
  },
  {
   "cell_type": "code",
   "execution_count": 3,
   "metadata": {},
   "outputs": [
    {
     "name": "stdout",
     "output_type": "stream",
     "text": [
      "['App', 'Category', 'Rating', 'Reviews', 'Size', 'Installs', 'Type', 'Price', 'Content Rating', 'Genres', 'Last Updated', 'Current Ver', 'Android Ver']\n",
      "\n",
      "\n",
      "['Photo Editor & Candy Camera & Grid & ScrapBook', 'ART_AND_DESIGN', '4.1', '159', '19M', '10,000+', 'Free', '0', 'Everyone', 'Art & Design', 'January 7, 2018', '1.0.0', '4.0.3 and up']\n",
      "\n",
      "\n",
      "['Coloring book moana', 'ART_AND_DESIGN', '3.9', '967', '14M', '500,000+', 'Free', '0', 'Everyone', 'Art & Design;Pretend Play', 'January 15, 2018', '2.0.0', '4.0.3 and up']\n",
      "\n",
      "\n",
      "['U Launcher Lite – FREE Live Cool Themes, Hide Apps', 'ART_AND_DESIGN', '4.7', '87510', '8.7M', '5,000,000+', 'Free', '0', 'Everyone', 'Art & Design', 'August 1, 2018', '1.2.4', '4.0.3 and up']\n",
      "\n",
      "\n",
      "Number of rows: 10841\n",
      "Number of columns 13\n"
     ]
    }
   ],
   "source": [
    "print(android_header)\n",
    "print('\\n')\n",
    "explore_data(android,0,3,True)"
   ]
  },
  {
   "cell_type": "markdown",
   "metadata": {},
   "source": [
    "we see that we have 10841 apps in google store and 13 columns . in quick glence the columns that might be useful for the purpose of our analysis are  App, Reviews, Type, Genres, Category, Installs"
   ]
  },
  {
   "cell_type": "markdown",
   "metadata": {},
   "source": [
    "Now lets look in ios data"
   ]
  },
  {
   "cell_type": "code",
   "execution_count": 4,
   "metadata": {},
   "outputs": [
    {
     "name": "stdout",
     "output_type": "stream",
     "text": [
      "['id', 'track_name', 'size_bytes', 'currency', 'price', 'rating_count_tot', 'rating_count_ver', 'user_rating', 'user_rating_ver', 'ver', 'cont_rating', 'prime_genre', 'sup_devices.num', 'ipadSc_urls.num', 'lang.num', 'vpp_lic']\n",
      "\n",
      "\n",
      "['284882215', 'Facebook', '389879808', 'USD', '0.0', '2974676', '212', '3.5', '3.5', '95.0', '4+', 'Social Networking', '37', '1', '29', '1']\n",
      "\n",
      "\n",
      "['389801252', 'Instagram', '113954816', 'USD', '0.0', '2161558', '1289', '4.5', '4.0', '10.23', '12+', 'Photo & Video', '37', '0', '29', '1']\n",
      "\n",
      "\n",
      "['529479190', 'Clash of Clans', '116476928', 'USD', '0.0', '2130805', '579', '4.5', '4.5', '9.24.12', '9+', 'Games', '38', '5', '18', '1']\n",
      "\n",
      "\n",
      "Number of rows: 7197\n",
      "Number of columns 16\n"
     ]
    }
   ],
   "source": [
    "print(ios_header)\n",
    "print('\\n')\n",
    "explore_data(ios,0,3,True)"
   ]
  },
  {
   "cell_type": "markdown",
   "metadata": {},
   "source": [
    "we can se that we have 7917 ios apps and the column that is instresting track_name, price, currency, rating_count_ver, cont_rating "
   ]
  },
  {
   "cell_type": "markdown",
   "metadata": {},
   "source": [
    "## Deleting wrong data"
   ]
  },
  {
   "cell_type": "markdown",
   "metadata": {},
   "source": [
    "The Google Play dataset has a dedicated [discussion section](https://www.kaggle.com/lava18/google-play-store-apps/discussion), and we can see that [one of the discussions](https://www.kaggle.com/datasets/lava18/google-play-store-apps/discussion/66015) describes an error for a certain row."
   ]
  },
  {
   "cell_type": "code",
   "execution_count": 5,
   "metadata": {},
   "outputs": [
    {
     "name": "stdout",
     "output_type": "stream",
     "text": [
      "['Life Made WI-Fi Touchscreen Photo Frame', '1.9', '19', '3.0M', '1,000+', 'Free', '0', 'Everyone', '', 'February 11, 2018', '1.0.19', '4.0 and up']\n",
      "['App', 'Category', 'Rating', 'Reviews', 'Size', 'Installs', 'Type', 'Price', 'Content Rating', 'Genres', 'Last Updated', 'Current Ver', 'Android Ver']\n",
      "['Photo Editor & Candy Camera & Grid & ScrapBook', 'ART_AND_DESIGN', '4.1', '159', '19M', '10,000+', 'Free', '0', 'Everyone', 'Art & Design', 'January 7, 2018', '1.0.0', '4.0.3 and up']\n"
     ]
    }
   ],
   "source": [
    "print(android[10472])#incorrect row\n",
    "print(android_header)#header\n",
    "print(android[0])# correct row"
   ]
  },
  {
   "cell_type": "markdown",
   "metadata": {},
   "source": [
    "we found that rating is wrong and we can see that it shift because we are missing a category  we will delete this row"
   ]
  },
  {
   "cell_type": "code",
   "execution_count": 6,
   "metadata": {},
   "outputs": [
    {
     "name": "stdout",
     "output_type": "stream",
     "text": [
      "10841\n",
      "10840\n"
     ]
    }
   ],
   "source": [
    "print(len(android))\n",
    "del(android[10472])\n",
    "print(len(android))"
   ]
  },
  {
   "cell_type": "markdown",
   "metadata": {},
   "source": [
    "##  Removing Duplicate Entries"
   ]
  },
  {
   "cell_type": "markdown",
   "metadata": {},
   "source": [
    "### Part one"
   ]
  },
  {
   "cell_type": "markdown",
   "metadata": {},
   "source": [
    "If you explore the Google Play data set long enough or look at the discussions section, you'll notice some apps have duplicate entries. For instance, Instagram has four entries:"
   ]
  },
  {
   "cell_type": "code",
   "execution_count": 7,
   "metadata": {},
   "outputs": [
    {
     "name": "stdout",
     "output_type": "stream",
     "text": [
      "['Instagram', 'SOCIAL', '4.5', '66577313', 'Varies with device', '1,000,000,000+', 'Free', '0', 'Teen', 'Social', 'July 31, 2018', 'Varies with device', 'Varies with device']\n",
      "['Instagram', 'SOCIAL', '4.5', '66577446', 'Varies with device', '1,000,000,000+', 'Free', '0', 'Teen', 'Social', 'July 31, 2018', 'Varies with device', 'Varies with device']\n",
      "['Instagram', 'SOCIAL', '4.5', '66577313', 'Varies with device', '1,000,000,000+', 'Free', '0', 'Teen', 'Social', 'July 31, 2018', 'Varies with device', 'Varies with device']\n",
      "['Instagram', 'SOCIAL', '4.5', '66509917', 'Varies with device', '1,000,000,000+', 'Free', '0', 'Teen', 'Social', 'July 31, 2018', 'Varies with device', 'Varies with device']\n"
     ]
    }
   ],
   "source": [
    "for app in android:\n",
    "    if app[0] =='Instagram':\n",
    "        print(app)"
   ]
  },
  {
   "cell_type": "markdown",
   "metadata": {},
   "source": [
    "\n",
    "\n",
    "In total, there are 1,181 cases where an app occurs more than once:\n"
   ]
  },
  {
   "cell_type": "code",
   "execution_count": 8,
   "metadata": {},
   "outputs": [
    {
     "name": "stdout",
     "output_type": "stream",
     "text": [
      "Number of dublicate apps: 1181\n",
      "\n",
      "\n",
      "Examples of duplicate apps: ['Quick PDF Scanner + OCR FREE', 'Box', 'Google My Business', 'ZOOM Cloud Meetings', 'join.me - Simple Meetings', 'Box', 'Zenefits', 'Google Ads', 'Google My Business', 'Slack', 'FreshBooks Classic', 'Insightly CRM', 'QuickBooks Accounting: Invoicing & Expenses', 'HipChat - Chat Built for Teams', 'Xero Accounting Software']\n"
     ]
    }
   ],
   "source": [
    "duplicate_apps=[]\n",
    "unique_apps=[]\n",
    "\n",
    "for app in android:\n",
    "    name= app[0]\n",
    "    if name in unique_apps:\n",
    "        duplicate_apps.append(name)\n",
    "    else:\n",
    "        unique_apps.append(name)\n",
    "print('Number of dublicate apps:', len(duplicate_apps))\n",
    "print('\\n')\n",
    "print('Examples of duplicate apps:', duplicate_apps[:15])"
   ]
  },
  {
   "cell_type": "markdown",
   "metadata": {},
   "source": [
    "We don't want to count certain apps more than once when we analyze data, so we need to remove the duplicate entries and keep only one entry per app. One thing we could do is remove the duplicate rows randomly, but we could probably find a better way."
   ]
  },
  {
   "cell_type": "markdown",
   "metadata": {},
   "source": [
    "If you examine the rows we printed two cells above for the Instagram app, the main difference happens on the fourth position of each row, which corresponds to the number of reviews. The different numbers show that the data was collected at different times. We can use this to build a criterion for keeping rows. We won't remove rows randomly, but rather we'll keep the rows that have the highest number of reviews because the higher the number of reviews, the more reliable the ratings."
   ]
  },
  {
   "cell_type": "markdown",
   "metadata": {},
   "source": [
    "To do that, we will:\n",
    "\n",
    "- Create a dictionary where each key is a unique app name, and the value is the highest number of reviews of that app\n",
    "- Use the dictionary to create a new data set, which will have only one entry per app (and we only select the apps with the highest number of reviews)\n",
    "\n"
   ]
  },
  {
   "cell_type": "markdown",
   "metadata": {},
   "source": [
    "### Part Two"
   ]
  },
  {
   "cell_type": "markdown",
   "metadata": {},
   "source": [
    "Let's start by building the dictionary."
   ]
  },
  {
   "cell_type": "code",
   "execution_count": 9,
   "metadata": {},
   "outputs": [],
   "source": [
    "reviews_max={}\n",
    "for app in android:\n",
    "    name=app[0]\n",
    "    n_reviews=float(app[3])\n",
    "    if name in reviews_max and reviews_max[name] > n_reviews:\n",
    "        reviews_max[name]=n_reviews\n",
    "    elif name not in reviews_max:\n",
    "        reviews_max[name]=n_reviews\n",
    "        \n",
    "        "
   ]
  },
  {
   "cell_type": "markdown",
   "metadata": {},
   "source": [
    "In a previous code cell, we found that there are 1,181 cases where an app occurs more than once, so the length of our dictionary (of unique apps) should be equal to the difference between the length of our data set and 1,181"
   ]
  },
  {
   "cell_type": "code",
   "execution_count": 10,
   "metadata": {},
   "outputs": [
    {
     "name": "stdout",
     "output_type": "stream",
     "text": [
      "Expected length 9659\n",
      "Actual length 9659\n"
     ]
    }
   ],
   "source": [
    "print(\"Expected length\",len(android)-1181)\n",
    "print(\"Actual length\",len(reviews_max))"
   ]
  },
  {
   "cell_type": "markdown",
   "metadata": {},
   "source": [
    "Now, let's use the reviews_max dictionary to remove the duplicates. For the duplicate cases, we'll only keep the entries with the highest number of reviews. In the code cell below:"
   ]
  },
  {
   "cell_type": "code",
   "execution_count": 11,
   "metadata": {},
   "outputs": [],
   "source": [
    "android_clean=[]\n",
    "already_added=[]\n",
    "for app in android:\n",
    "    name=app[0]\n",
    "    n_reviews=float(app[3])\n",
    "    if (reviews_max[name] == n_reviews) and (name not in already_added):\n",
    "        android_clean.append(app)\n",
    "        already_added.append(name)"
   ]
  },
  {
   "cell_type": "code",
   "execution_count": 12,
   "metadata": {},
   "outputs": [
    {
     "name": "stdout",
     "output_type": "stream",
     "text": [
      "['Photo Editor & Candy Camera & Grid & ScrapBook', 'ART_AND_DESIGN', '4.1', '159', '19M', '10,000+', 'Free', '0', 'Everyone', 'Art & Design', 'January 7, 2018', '1.0.0', '4.0.3 and up']\n",
      "\n",
      "\n",
      "['Coloring book moana', 'ART_AND_DESIGN', '3.9', '967', '14M', '500,000+', 'Free', '0', 'Everyone', 'Art & Design;Pretend Play', 'January 15, 2018', '2.0.0', '4.0.3 and up']\n",
      "\n",
      "\n",
      "['U Launcher Lite – FREE Live Cool Themes, Hide Apps', 'ART_AND_DESIGN', '4.7', '87510', '8.7M', '5,000,000+', 'Free', '0', 'Everyone', 'Art & Design', 'August 1, 2018', '1.2.4', '4.0.3 and up']\n",
      "\n",
      "\n",
      "Number of rows: 9659\n",
      "Number of columns 13\n"
     ]
    }
   ],
   "source": [
    "explore_data(android_clean, 0,3,True)"
   ]
  },
  {
   "cell_type": "markdown",
   "metadata": {},
   "source": [
    "## Removing Non-English Apps"
   ]
  },
  {
   "cell_type": "markdown",
   "metadata": {},
   "source": [
    "### Part One"
   ]
  },
  {
   "cell_type": "markdown",
   "metadata": {},
   "source": [
    "However, if we explore the data long enough, we'll find that both datasets have apps with names that suggest they are not designed for an English-speaking audience."
   ]
  },
  {
   "cell_type": "code",
   "execution_count": 13,
   "metadata": {},
   "outputs": [
    {
     "name": "stdout",
     "output_type": "stream",
     "text": [
      "爱奇艺PPS -《欢乐颂2》电视剧热播\n",
      "【脱出ゲーム】絶対に最後までプレイしないで 〜謎解き＆ブロックパズル〜\n"
     ]
    }
   ],
   "source": [
    "print(ios[813][1])\n",
    "print(ios[6731][1])"
   ]
  },
  {
   "cell_type": "markdown",
   "metadata": {},
   "source": [
    "We're not interested in keeping these apps, so we'll remove them,The numbers corresponding to the characters we commonly use in an English text are all in the range 0 to 127, according to the ASCII "
   ]
  },
  {
   "cell_type": "code",
   "execution_count": 14,
   "metadata": {},
   "outputs": [
    {
     "name": "stdout",
     "output_type": "stream",
     "text": [
      "97\n"
     ]
    }
   ],
   "source": [
    "print(ord('a'))"
   ]
  },
  {
   "cell_type": "markdown",
   "metadata": {},
   "source": [
    "def check_name(name): #before editing\n",
    "    for i in name:\n",
    "        if(ord(i)>127):\n",
    "            return False\n",
    "    return True"
   ]
  },
  {
   "cell_type": "code",
   "execution_count": 15,
   "metadata": {},
   "outputs": [],
   "source": [
    "def check_name(name): #after editing\n",
    "    x=0\n",
    "    for i in name:\n",
    "        if(ord(i)>127):\n",
    "            x+=1\n",
    "    if x>3:\n",
    "        return False\n",
    "    else:\n",
    "        return True"
   ]
  },
  {
   "cell_type": "code",
   "execution_count": 16,
   "metadata": {},
   "outputs": [
    {
     "name": "stdout",
     "output_type": "stream",
     "text": [
      "True\n",
      "False\n",
      "True\n",
      "True\n"
     ]
    }
   ],
   "source": [
    "print(check_name('Instagram'))\n",
    "print(check_name('爱奇艺PPS -《欢乐颂2》电视剧热播'))\n",
    "print(check_name('Docs To Go™ Free Office Suite'))\n",
    "print(check_name('Instachat 😜'))"
   ]
  },
  {
   "cell_type": "markdown",
   "metadata": {},
   "source": [
    "the function check_name it check if the string or name is in english if true return true else not english,but we can see it need more improve "
   ]
  },
  {
   "cell_type": "markdown",
   "metadata": {},
   "source": [
    "filter out non-English apps from both datasets."
   ]
  },
  {
   "cell_type": "code",
   "execution_count": 17,
   "metadata": {},
   "outputs": [
    {
     "name": "stdout",
     "output_type": "stream",
     "text": [
      "['Photo Editor & Candy Camera & Grid & ScrapBook', 'ART_AND_DESIGN', '4.1', '159', '19M', '10,000+', 'Free', '0', 'Everyone', 'Art & Design', 'January 7, 2018', '1.0.0', '4.0.3 and up']\n",
      "\n",
      "\n",
      "['Coloring book moana', 'ART_AND_DESIGN', '3.9', '967', '14M', '500,000+', 'Free', '0', 'Everyone', 'Art & Design;Pretend Play', 'January 15, 2018', '2.0.0', '4.0.3 and up']\n",
      "\n",
      "\n",
      "['U Launcher Lite – FREE Live Cool Themes, Hide Apps', 'ART_AND_DESIGN', '4.7', '87510', '8.7M', '5,000,000+', 'Free', '0', 'Everyone', 'Art & Design', 'August 1, 2018', '1.2.4', '4.0.3 and up']\n",
      "\n",
      "\n",
      "Number of rows: 9614\n",
      "Number of columns 13\n",
      "None\n"
     ]
    }
   ],
   "source": [
    "english_andorid=[]\n",
    "for app in android_clean:\n",
    "    if  check_name(app[0]):\n",
    "        english_andorid.append(app)\n",
    "print(explore_data(english_andorid,0,3,True))"
   ]
  },
  {
   "cell_type": "code",
   "execution_count": 18,
   "metadata": {},
   "outputs": [
    {
     "name": "stdout",
     "output_type": "stream",
     "text": [
      "['284882215', 'Facebook', '389879808', 'USD', '0.0', '2974676', '212', '3.5', '3.5', '95.0', '4+', 'Social Networking', '37', '1', '29', '1']\n",
      "\n",
      "\n",
      "['389801252', 'Instagram', '113954816', 'USD', '0.0', '2161558', '1289', '4.5', '4.0', '10.23', '12+', 'Photo & Video', '37', '0', '29', '1']\n",
      "\n",
      "\n",
      "['529479190', 'Clash of Clans', '116476928', 'USD', '0.0', '2130805', '579', '4.5', '4.5', '9.24.12', '9+', 'Games', '38', '5', '18', '1']\n",
      "\n",
      "\n",
      "Number of rows: 6183\n",
      "Number of columns 16\n",
      "None\n"
     ]
    }
   ],
   "source": [
    "english_ios=[]\n",
    "for app in ios:\n",
    "    if  check_name(app[1]):\n",
    "        english_ios.append(app)\n",
    "print(explore_data(english_ios,0,3,True))"
   ]
  },
  {
   "cell_type": "markdown",
   "metadata": {},
   "source": [
    "## solating the Free Apps"
   ]
  },
  {
   "cell_type": "code",
   "execution_count": 19,
   "metadata": {},
   "outputs": [
    {
     "name": "stdout",
     "output_type": "stream",
     "text": [
      "8861\n"
     ]
    }
   ],
   "source": [
    "free_android_apps=[]\n",
    "for app in english_andorid:\n",
    "    if app[6]==\"Free\":\n",
    "        free_android_apps.append(app)\n",
    "print(len(free_android_apps))"
   ]
  },
  {
   "cell_type": "code",
   "execution_count": 20,
   "metadata": {},
   "outputs": [
    {
     "name": "stdout",
     "output_type": "stream",
     "text": [
      "3222\n"
     ]
    }
   ],
   "source": [
    "free_ios_apps=[]\n",
    "for app in english_ios:\n",
    "    if float(app[4]) ==0.0:\n",
    "        free_ios_apps.append(app)\n",
    "print(len(free_ios_apps))"
   ]
  },
  {
   "cell_type": "markdown",
   "metadata": {},
   "source": [
    "## Most Common Apps by Genre"
   ]
  },
  {
   "cell_type": "markdown",
   "metadata": {},
   "source": [
    "### Part One"
   ]
  },
  {
   "cell_type": "markdown",
   "metadata": {},
   "source": [
    "As we mentioned in the introduction, our goal is to determine the kinds of apps that are likely to attract more users because the number of people using our apps affect our revenue."
   ]
  },
  {
   "cell_type": "markdown",
   "metadata": {},
   "source": [
    "To minimize risks and overhead, our validation strategy for an app idea has three steps:\n",
    "\n",
    "-    Build a minimal Android version of the app, and add it to Google Play.\n",
    "-    If the app has a good response from users, we develop it further.\n",
    "-    If the app is profitable after six months, we build an iOS version of the app and add it to the App Store.\n"
   ]
  },
  {
   "cell_type": "code",
   "execution_count": 21,
   "metadata": {},
   "outputs": [
    {
     "name": "stdout",
     "output_type": "stream",
     "text": [
      "['App', 'Category', 'Rating', 'Reviews', 'Size', 'Installs', 'Type', 'Price', 'Content Rating', 'Genres', 'Last Updated', 'Current Ver', 'Android Ver']\n",
      "['id', 'track_name', 'size_bytes', 'currency', 'price', 'rating_count_tot', 'rating_count_ver', 'user_rating', 'user_rating_ver', 'ver', 'cont_rating', 'prime_genre', 'sup_devices.num', 'ipadSc_urls.num', 'lang.num', 'vpp_lic']\n"
     ]
    }
   ],
   "source": [
    "print(android_header)\n",
    "print(ios_header)"
   ]
  },
  {
   "cell_type": "markdown",
   "metadata": {},
   "source": [
    "we will use prime_genre from ios and category and genres form android to build frequency tables"
   ]
  },
  {
   "cell_type": "markdown",
   "metadata": {},
   "source": [
    "### Part Two"
   ]
  },
  {
   "cell_type": "code",
   "execution_count": 22,
   "metadata": {},
   "outputs": [],
   "source": [
    "def freq_table(dataset, index):\n",
    "    table = {}\n",
    "    total = 0\n",
    "    \n",
    "    for row in dataset:\n",
    "        total += 1\n",
    "        value = row[index]\n",
    "        if value in table:\n",
    "            table[value] += 1\n",
    "        else:\n",
    "            table[value] = 1\n",
    "    \n",
    "    table_percentages = {}\n",
    "    for key in table:\n",
    "        percentage = (table[key] / total) * 100\n",
    "        table_percentages[key] = percentage \n",
    "    \n",
    "    return table_percentages"
   ]
  },
  {
   "cell_type": "code",
   "execution_count": 23,
   "metadata": {},
   "outputs": [],
   "source": [
    "def display_table(dataset, index):\n",
    "    table = freq_table(dataset, index)\n",
    "    table_display = []\n",
    "    for key in table:\n",
    "        key_val_as_tuple = (table[key], key)\n",
    "        table_display.append(key_val_as_tuple)\n",
    "        \n",
    "    table_sorted = sorted(table_display, reverse = True)\n",
    "    for entry in table_sorted:\n",
    "        print(entry[1], ':', entry[0])\n"
   ]
  },
  {
   "cell_type": "markdown",
   "metadata": {},
   "source": [
    "### Part Three"
   ]
  },
  {
   "cell_type": "markdown",
   "metadata": {},
   "source": [
    "prime_genre column of the App Store dataset."
   ]
  },
  {
   "cell_type": "code",
   "execution_count": 24,
   "metadata": {
    "scrolled": false
   },
   "outputs": [
    {
     "name": "stdout",
     "output_type": "stream",
     "text": [
      "Games : 58.16263190564867\n",
      "Entertainment : 7.883302296710118\n",
      "Photo & Video : 4.9658597144630665\n",
      "Education : 3.662321539416512\n",
      "Social Networking : 3.2898820608317814\n",
      "Shopping : 2.60707635009311\n",
      "Utilities : 2.5139664804469275\n",
      "Sports : 2.1415270018621975\n",
      "Music : 2.0484171322160147\n",
      "Health & Fitness : 2.0173805090006205\n",
      "Productivity : 1.7380509000620732\n",
      "Lifestyle : 1.5828677839851024\n",
      "News : 1.3345747982619491\n",
      "Travel : 1.2414649286157666\n",
      "Finance : 1.1173184357541899\n",
      "Weather : 0.8690254500310366\n",
      "Food & Drink : 0.8069522036002483\n",
      "Reference : 0.5586592178770949\n",
      "Business : 0.5276225946617008\n",
      "Book : 0.4345127250155183\n",
      "Navigation : 0.186219739292365\n",
      "Medical : 0.186219739292365\n",
      "Catalogs : 0.12414649286157665\n"
     ]
    }
   ],
   "source": [
    "display_table(free_ios_apps,-5)"
   ]
  },
  {
   "cell_type": "markdown",
   "metadata": {},
   "source": [
    "we can see that the most common genra is Games nad next is Entertainment"
   ]
  },
  {
   "cell_type": "code",
   "execution_count": 25,
   "metadata": {
    "scrolled": false
   },
   "outputs": [
    {
     "name": "stdout",
     "output_type": "stream",
     "text": [
      "FAMILY : 18.77891885791671\n",
      "GAME : 9.637738404243313\n",
      "TOOLS : 8.441485159688522\n",
      "BUSINESS : 4.581875634804198\n",
      "LIFESTYLE : 3.9047511567543167\n",
      "PRODUCTIVITY : 3.8934657487868187\n",
      "FINANCE : 3.7016138133393524\n",
      "MEDICAL : 3.532332693826882\n",
      "SPORTS : 3.4194786141519016\n",
      "PERSONALIZATION : 3.317909942444419\n",
      "COMMUNICATION : 3.250197494639431\n",
      "HEALTH_AND_FITNESS : 3.069630967159463\n",
      "PHOTOGRAPHY : 2.9454914795169844\n",
      "NEWS_AND_MAGAZINES : 2.7987811759395105\n",
      "SOCIAL : 2.663356280329534\n",
      "TRAVEL_AND_LOCAL : 2.3360794492720913\n",
      "SHOPPING : 2.245796185532107\n",
      "BOOKS_AND_REFERENCE : 2.144227513824625\n",
      "DATING : 1.8620923146371742\n",
      "VIDEO_PLAYERS : 1.783094458864688\n",
      "MAPS_AND_NAVIGATION : 1.3993905879697552\n",
      "EDUCATION : 1.2526802843922809\n",
      "FOOD_AND_DRINK : 1.2413948764247829\n",
      "ENTERTAINMENT : 1.0382575330098183\n",
      "LIBRARIES_AND_DEMO : 0.9366888613023362\n",
      "AUTO_AND_VEHICLES : 0.9254034533348381\n",
      "HOUSE_AND_HOME : 0.8351201895948538\n",
      "WEATHER : 0.8012639656923597\n",
      "EVENTS : 0.7109807019523756\n",
      "ART_AND_DESIGN : 0.6771244780498815\n",
      "PARENTING : 0.6545536621148855\n",
      "COMICS : 0.6206974382123914\n",
      "BEAUTY : 0.5981266222773953\n"
     ]
    }
   ],
   "source": [
    "display_table(free_android_apps, 1) # Category"
   ]
  },
  {
   "cell_type": "markdown",
   "metadata": {},
   "source": [
    "we can see most category games are family then game then tools "
   ]
  },
  {
   "cell_type": "code",
   "execution_count": 26,
   "metadata": {
    "scrolled": true
   },
   "outputs": [
    {
     "name": "stdout",
     "output_type": "stream",
     "text": [
      "Tools : 8.430199751721025\n",
      "Entertainment : 6.071549486513937\n",
      "Education : 5.349283376594064\n",
      "Business : 4.581875634804198\n",
      "Productivity : 3.8934657487868187\n",
      "Lifestyle : 3.8934657487868187\n",
      "Finance : 3.7016138133393524\n",
      "Medical : 3.532332693826882\n",
      "Sports : 3.464620246021894\n",
      "Personalization : 3.317909942444419\n",
      "Communication : 3.250197494639431\n",
      "Action : 3.103487191061957\n",
      "Health & Fitness : 3.069630967159463\n",
      "Photography : 2.9454914795169844\n",
      "News & Magazines : 2.7987811759395105\n",
      "Social : 2.663356280329534\n",
      "Travel & Local : 2.3247940413045933\n",
      "Shopping : 2.245796185532107\n",
      "Books & Reference : 2.144227513824625\n",
      "Simulation : 2.0426588421171425\n",
      "Dating : 1.8620923146371742\n",
      "Arcade : 1.8620923146371742\n",
      "Video Players & Editors : 1.783094458864688\n",
      "Casual : 1.749238234962194\n",
      "Maps & Navigation : 1.3993905879697552\n",
      "Food & Drink : 1.2413948764247829\n",
      "Puzzle : 1.1285407967498025\n",
      "Racing : 0.9931159011398263\n",
      "Role Playing : 0.9366888613023362\n",
      "Libraries & Demo : 0.9366888613023362\n",
      "Auto & Vehicles : 0.9254034533348381\n",
      "Strategy : 0.9028326373998421\n",
      "House & Home : 0.8351201895948538\n",
      "Weather : 0.8012639656923597\n",
      "Events : 0.7109807019523756\n",
      "Adventure : 0.6771244780498815\n",
      "Comics : 0.6094120302448933\n",
      "Beauty : 0.5981266222773953\n",
      "Art & Design : 0.5981266222773953\n",
      "Parenting : 0.49655795056991314\n",
      "Card : 0.440130910732423\n",
      "Casino : 0.42884550276492495\n",
      "Trivia : 0.4175600947974269\n",
      "Educational;Education : 0.3949892788624309\n",
      "Educational : 0.3724184629274348\n",
      "Board : 0.3724184629274348\n",
      "Education;Education : 0.33856223902494076\n",
      "Word : 0.25956438325245457\n",
      "Casual;Pretend Play : 0.23699356731745852\n",
      "Music : 0.20313734341496445\n",
      "Racing;Action & Adventure : 0.16928111951247038\n",
      "Puzzle;Brain Games : 0.16928111951247038\n",
      "Entertainment;Music & Video : 0.16928111951247038\n",
      "Casual;Brain Games : 0.13542489560997628\n",
      "Casual;Action & Adventure : 0.13542489560997628\n",
      "Arcade;Action & Adventure : 0.12413948764247829\n",
      "Action;Action & Adventure : 0.10156867170748222\n",
      "Educational;Pretend Play : 0.0902832637399842\n",
      "Board;Brain Games : 0.0902832637399842\n",
      "Simulation;Action & Adventure : 0.07899785577248618\n",
      "Parenting;Education : 0.07899785577248618\n",
      "Entertainment;Brain Games : 0.07899785577248618\n",
      "Parenting;Music & Video : 0.06771244780498814\n",
      "Educational;Brain Games : 0.06771244780498814\n",
      "Casual;Creativity : 0.06771244780498814\n",
      "Art & Design;Creativity : 0.06771244780498814\n",
      "Education;Pretend Play : 0.05642703983749013\n",
      "Role Playing;Pretend Play : 0.0451416318699921\n",
      "Education;Creativity : 0.0451416318699921\n",
      "Role Playing;Action & Adventure : 0.03385622390249407\n",
      "Puzzle;Action & Adventure : 0.03385622390249407\n",
      "Entertainment;Creativity : 0.03385622390249407\n",
      "Entertainment;Action & Adventure : 0.03385622390249407\n",
      "Educational;Creativity : 0.03385622390249407\n",
      "Educational;Action & Adventure : 0.03385622390249407\n",
      "Education;Music & Video : 0.03385622390249407\n",
      "Education;Brain Games : 0.03385622390249407\n",
      "Education;Action & Adventure : 0.03385622390249407\n",
      "Adventure;Action & Adventure : 0.03385622390249407\n",
      "Video Players & Editors;Music & Video : 0.02257081593499605\n",
      "Sports;Action & Adventure : 0.02257081593499605\n",
      "Simulation;Pretend Play : 0.02257081593499605\n",
      "Puzzle;Creativity : 0.02257081593499605\n",
      "Music;Music & Video : 0.02257081593499605\n",
      "Entertainment;Pretend Play : 0.02257081593499605\n",
      "Casual;Education : 0.02257081593499605\n",
      "Board;Action & Adventure : 0.02257081593499605\n",
      "Trivia;Education : 0.011285407967498025\n",
      "Travel & Local;Action & Adventure : 0.011285407967498025\n",
      "Tools;Education : 0.011285407967498025\n",
      "Strategy;Education : 0.011285407967498025\n",
      "Strategy;Creativity : 0.011285407967498025\n",
      "Strategy;Action & Adventure : 0.011285407967498025\n",
      "Simulation;Education : 0.011285407967498025\n",
      "Role Playing;Brain Games : 0.011285407967498025\n",
      "Racing;Pretend Play : 0.011285407967498025\n",
      "Puzzle;Education : 0.011285407967498025\n",
      "Parenting;Brain Games : 0.011285407967498025\n",
      "Music & Audio;Music & Video : 0.011285407967498025\n",
      "Lifestyle;Pretend Play : 0.011285407967498025\n",
      "Lifestyle;Education : 0.011285407967498025\n",
      "Health & Fitness;Education : 0.011285407967498025\n",
      "Health & Fitness;Action & Adventure : 0.011285407967498025\n",
      "Entertainment;Education : 0.011285407967498025\n",
      "Communication;Creativity : 0.011285407967498025\n",
      "Comics;Creativity : 0.011285407967498025\n",
      "Casual;Music & Video : 0.011285407967498025\n",
      "Card;Brain Games : 0.011285407967498025\n",
      "Card;Action & Adventure : 0.011285407967498025\n",
      "Books & Reference;Education : 0.011285407967498025\n",
      "Art & Design;Pretend Play : 0.011285407967498025\n",
      "Art & Design;Action & Adventure : 0.011285407967498025\n",
      "Arcade;Pretend Play : 0.011285407967498025\n",
      "Adventure;Education : 0.011285407967498025\n"
     ]
    }
   ],
   "source": [
    "display_table(free_android_apps, 9) "
   ]
  },
  {
   "cell_type": "markdown",
   "metadata": {},
   "source": [
    "we can see most genres are tools then entertaimnent "
   ]
  },
  {
   "cell_type": "markdown",
   "metadata": {},
   "source": [
    "The frequency tables we analyzed on the previous screen showed us that apps designed for fun dominate the App Store, while Google Play shows a more balanced landscape of both practical and fun apps."
   ]
  },
  {
   "cell_type": "markdown",
   "metadata": {},
   "source": [
    "## Most Popular Apps by Genre on the App Store"
   ]
  },
  {
   "cell_type": "code",
   "execution_count": 27,
   "metadata": {},
   "outputs": [
    {
     "name": "stdout",
     "output_type": "stream",
     "text": [
      "Social Networking : average number of user rating: 71548.34905660378\n",
      "Photo & Video : average number of user rating: 28441.54375\n",
      "Games : average number of user rating: 22788.6696905016\n",
      "Music : average number of user rating: 57326.530303030304\n",
      "Reference : average number of user rating: 74942.11111111111\n",
      "Health & Fitness : average number of user rating: 23298.015384615384\n",
      "Weather : average number of user rating: 52279.892857142855\n",
      "Utilities : average number of user rating: 18684.456790123455\n",
      "Travel : average number of user rating: 28243.8\n",
      "Shopping : average number of user rating: 26919.690476190477\n",
      "News : average number of user rating: 21248.023255813954\n",
      "Navigation : average number of user rating: 86090.33333333333\n",
      "Lifestyle : average number of user rating: 16485.764705882353\n",
      "Entertainment : average number of user rating: 14029.830708661417\n",
      "Food & Drink : average number of user rating: 33333.92307692308\n",
      "Sports : average number of user rating: 23008.898550724636\n",
      "Book : average number of user rating: 39758.5\n",
      "Finance : average number of user rating: 31467.944444444445\n",
      "Education : average number of user rating: 7003.983050847458\n",
      "Productivity : average number of user rating: 21028.410714285714\n",
      "Business : average number of user rating: 7491.117647058823\n",
      "Catalogs : average number of user rating: 4004.0\n",
      "Medical : average number of user rating: 612.0\n"
     ]
    }
   ],
   "source": [
    "table=freq_table(free_ios_apps,-5)\n",
    "\n",
    "for genre in table:\n",
    "    total=0\n",
    "    len_genre=0\n",
    "    for i in free_ios_apps:\n",
    "        genra_app=i[-5]\n",
    "        if genra_app == genre:\n",
    "            total+=float(i[5])\n",
    "            len_genre+=1\n",
    "    avg=total/len_genre\n",
    "    print(genre,\": average number of user rating:\",avg)\n"
   ]
  },
  {
   "cell_type": "markdown",
   "metadata": {},
   "source": [
    "ok we can see that the nevigation is the highst number of user reivew "
   ]
  },
  {
   "cell_type": "code",
   "execution_count": 28,
   "metadata": {},
   "outputs": [
    {
     "name": "stdout",
     "output_type": "stream",
     "text": [
      "Waze - GPS Navigation, Maps & Real-time Traffic : 345046\n",
      "Google Maps - Navigation & Transit : 154911\n",
      "Geocaching® : 12811\n",
      "CoPilot GPS – Car Navigation & Offline Maps : 3582\n",
      "ImmobilienScout24: Real Estate Search in Germany : 187\n",
      "Railway Route Search : 5\n"
     ]
    }
   ],
   "source": [
    "for app in free_ios_apps:\n",
    "    if app[-5] =='Navigation':\n",
    "        print(app[1],\":\",app[5])"
   ]
  },
  {
   "cell_type": "markdown",
   "metadata": {},
   "source": [
    "we can see it wrong because it is influenced mostly by google maps and waze"
   ]
  },
  {
   "cell_type": "markdown",
   "metadata": {},
   "source": [
    "Our aim is to find popular genres, but navigation, social networking or music apps might seem more popular than they really are. The average number of ratings seem to be skewed by very few apps which have hundreds of thousands of user ratings, while the other apps may struggle to get past the 10,000 threshold. We could get a better picture by removing these extremely popular apps for each genre and then rework the averages, but we'll leave this level of detail for later."
   ]
  },
  {
   "cell_type": "markdown",
   "metadata": {},
   "source": [
    "## Most Popular Apps by Genre on Google Play"
   ]
  },
  {
   "cell_type": "code",
   "execution_count": 39,
   "metadata": {},
   "outputs": [
    {
     "name": "stdout",
     "output_type": "stream",
     "text": [
      "ART_AND_DESIGN : average number of user rating: 1905351.6666666667\n",
      "AUTO_AND_VEHICLES : average number of user rating: 647317.8170731707\n",
      "BEAUTY : average number of user rating: 513151.88679245283\n",
      "BOOKS_AND_REFERENCE : average number of user rating: 8767811.894736841\n",
      "BUSINESS : average number of user rating: 1704192.3399014778\n",
      "COMICS : average number of user rating: 817657.2727272727\n",
      "COMMUNICATION : average number of user rating: 38326063.197916664\n",
      "DATING : average number of user rating: 854028.8303030303\n",
      "EDUCATION : average number of user rating: 3057207.207207207\n",
      "ENTERTAINMENT : average number of user rating: 19428913.04347826\n",
      "EVENTS : average number of user rating: 253542.22222222222\n",
      "FINANCE : average number of user rating: 1387692.475609756\n",
      "FOOD_AND_DRINK : average number of user rating: 1924897.7363636363\n",
      "HEALTH_AND_FITNESS : average number of user rating: 4167457.3602941176\n",
      "HOUSE_AND_HOME : average number of user rating: 1313681.9054054054\n",
      "LIBRARIES_AND_DEMO : average number of user rating: 638503.734939759\n",
      "LIFESTYLE : average number of user rating: 1437816.2687861272\n",
      "GAME : average number of user rating: 13006872.892271662\n",
      "FAMILY : average number of user rating: 4374336.352163462\n",
      "MEDICAL : average number of user rating: 107167.23322683707\n",
      "SOCIAL : average number of user rating: 23253652.127118643\n",
      "SHOPPING : average number of user rating: 7036877.311557789\n",
      "PHOTOGRAPHY : average number of user rating: 17805627.643678162\n",
      "SPORTS : average number of user rating: 4274688.722772277\n",
      "TRAVEL_AND_LOCAL : average number of user rating: 13984077.710144928\n",
      "TOOLS : average number of user rating: 10695245.286096256\n",
      "PERSONALIZATION : average number of user rating: 5201482.6122448975\n",
      "PRODUCTIVITY : average number of user rating: 16772838.591304347\n",
      "PARENTING : average number of user rating: 542603.6206896552\n",
      "WEATHER : average number of user rating: 5074486.197183099\n",
      "VIDEO_PLAYERS : average number of user rating: 24790074.17721519\n",
      "NEWS_AND_MAGAZINES : average number of user rating: 9549178.467741935\n",
      "MAPS_AND_NAVIGATION : average number of user rating: 4056941.7741935486\n"
     ]
    }
   ],
   "source": [
    "table_android=freq_table(free_android_apps,1)\n",
    "for category in table_android:\n",
    "    total=0\n",
    "    len_category=0\n",
    "    for i in free_android_apps:\n",
    "        category_app=i[1]\n",
    "        if category_app == category:\n",
    "            numb=i[5]\n",
    "            numb=numb.replace(\"+\",\"\")\n",
    "            numb=numb.replace(\",\",\"\")\n",
    "            total+=float(numb)\n",
    "            len_category+=1\n",
    "    avg=total/len_category\n",
    "    print(category,\": average number of user rating:\",avg)"
   ]
  },
  {
   "cell_type": "code",
   "execution_count": null,
   "metadata": {},
   "outputs": [],
   "source": []
  }
 ],
 "metadata": {
  "kernelspec": {
   "display_name": "Python 3",
   "language": "python",
   "name": "python3"
  },
  "language_info": {
   "codemirror_mode": {
    "name": "ipython",
    "version": 3
   },
   "file_extension": ".py",
   "mimetype": "text/x-python",
   "name": "python",
   "nbconvert_exporter": "python",
   "pygments_lexer": "ipython3",
   "version": "3.8.2"
  }
 },
 "nbformat": 4,
 "nbformat_minor": 2
}
